{
 "cells": [
  {
   "cell_type": "code",
   "execution_count": null,
   "metadata": {},
   "outputs": [],
   "source": [
    "!nvidia-smi"
   ]
  },
  {
   "cell_type": "code",
   "execution_count": null,
   "metadata": {},
   "outputs": [],
   "source": [
    "!wget https://github.com/onnx/models/raw/master/text/machine_comprehension/t5/model/t5-encoder-12.onnx"
   ]
  },
  {
   "cell_type": "code",
   "execution_count": null,
   "metadata": {},
   "outputs": [],
   "source": [
    "mkdir -p ./models/t5/1"
   ]
  },
  {
   "cell_type": "code",
   "execution_count": null,
   "metadata": {},
   "outputs": [],
   "source": [
    "configuration = \"\"\"\n",
    "name: \"t5\"\n",
    "platform: \"onnxruntime_onnx\"\n",
    "max_batch_size: 1\n",
    "input [\n",
    " {\n",
    "    name: \"input_ids\"\n",
    "    data_type: TYPE_INT64\n",
    "    dims: [ -1 ]\n",
    "  }\n",
    "]\n",
    "output {\n",
    "    name: \"hidden_states\"\n",
    "    data_type: TYPE_FP32\n",
    "    dims: [ -1, 768 ]\n",
    "  }\n",
    "\"\"\"\n",
    "\n",
    "with open('./models/t5/config.pbtxt', 'w') as file:\n",
    "    file.write(configuration)"
   ]
  },
  {
   "cell_type": "code",
   "execution_count": null,
   "metadata": {},
   "outputs": [],
   "source": [
    "!cp ./t5-encoder-12.onnx ./models/t5/1/model.onnx"
   ]
  },
  {
   "cell_type": "code",
   "execution_count": null,
   "metadata": {},
   "outputs": [],
   "source": [
    "!perf_analyzer \\\n",
    "  -m t5 \\\n",
    "  -x 1 \\\n",
    "  -b 1 \\\n",
    "  --concurrency-range 100 \\\n",
    "  -u triton:8000 \\\n",
    "  -i http \\\n",
    "  --input-data zero \\\n",
    "  --shape input_ids:20\n"
   ]
  },
  {
   "cell_type": "code",
   "execution_count": null,
   "metadata": {},
   "outputs": [],
   "source": [
    "!cp -R ./models/t5 ./models/t5-cpu"
   ]
  },
  {
   "cell_type": "code",
   "execution_count": null,
   "metadata": {},
   "outputs": [],
   "source": [
    "configuration = \"\"\"\n",
    "name: \"t5-cpu\"\n",
    "platform: \"onnxruntime_onnx\"\n",
    "max_batch_size: 1\n",
    "input [\n",
    " {\n",
    "    name: \"input_ids\"\n",
    "    data_type: TYPE_INT64\n",
    "    dims: [ -1 ]\n",
    "  }\n",
    "]\n",
    "output {\n",
    "    name: \"hidden_states\"\n",
    "    data_type: TYPE_FP32\n",
    "    dims: [ -1, 768 ]\n",
    "  }\n",
    "instance_group [\n",
    "    {\n",
    "      count: 1\n",
    "      kind: KIND_CPU\n",
    "    }\n",
    "  ]\n",
    "\"\"\"\n",
    "\n",
    "with open('./models/t5-cpu/config.pbtxt', 'w') as file:\n",
    "    file.write(configuration)"
   ]
  },
  {
   "cell_type": "code",
   "execution_count": null,
   "metadata": {},
   "outputs": [],
   "source": [
    "!perf_analyzer \\\n",
    "  -m t5-cpu \\\n",
    "  -x 1 \\\n",
    "  -b 1 \\\n",
    "  --concurrency-range 100 \\\n",
    "  -u triton:8000 \\\n",
    "  -i http \\\n",
    "  --input-data zero \\\n",
    "  --shape input_ids:20\n"
   ]
  },
  {
   "cell_type": "code",
   "execution_count": null,
   "metadata": {},
   "outputs": [],
   "source": [
    "!pip install onnx_opcounter"
   ]
  },
  {
   "cell_type": "code",
   "execution_count": null,
   "metadata": {},
   "outputs": [],
   "source": [
    "from onnx_opcounter import calculate_params\n",
    "import onnx\n",
    "\n",
    "model = onnx.load_model('t5-encoder-12.onnx')\n",
    "params = calculate_params(model)\n",
    "\n",
    "print('Number of params:', params)"
   ]
  },
  {
   "cell_type": "code",
   "execution_count": null,
   "metadata": {},
   "outputs": [],
   "source": []
  }
 ],
 "metadata": {
  "kernelspec": {
   "display_name": "Python 3",
   "language": "python",
   "name": "python3"
  },
  "language_info": {
   "codemirror_mode": {
    "name": "ipython",
    "version": 3
   },
   "file_extension": ".py",
   "mimetype": "text/x-python",
   "name": "python",
   "nbconvert_exporter": "python",
   "pygments_lexer": "ipython3",
   "version": "3.8.5"
  }
 },
 "nbformat": 4,
 "nbformat_minor": 4
}
